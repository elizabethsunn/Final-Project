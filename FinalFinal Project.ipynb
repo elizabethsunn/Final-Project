{
 "cells": [
  {
   "cell_type": "markdown",
   "id": "ef0115fb",
   "metadata": {},
   "source": [
    "# Final Project"
   ]
  },
  {
   "cell_type": "markdown",
   "id": "a11d0cc5",
   "metadata": {},
   "source": [
    "Elizabeth Sun, Bioinformatics, Professor Jamie Schiffer, 12/7/2021"
   ]
  },
  {
   "cell_type": "markdown",
   "id": "350825dc",
   "metadata": {},
   "source": [
    "### Scientific Question: To what extent are the RNA-dependent RNA polymerase domains from severe acute respiratory syndrome coronavirus 2 (SARS-CoV-2) and Ebola virus structurally similar or different? "
   ]
  },
  {
   "cell_type": "markdown",
   "id": "256c4f4d",
   "metadata": {},
   "source": [
    "RNA-dependent RNA polymerases (RdRp) are a class of versatile polymerases found in RNA viruses that are responsible for replicating the viral genome as well as for carrying out transcription. Despite the divergence in RdRp sequences, most RdRps have the same core structural features or, in other words, conserved features (Venkataraman et al., 2018)."
   ]
  },
  {
   "cell_type": "markdown",
   "id": "505a6401",
   "metadata": {},
   "source": [
    "Remdesivir (GS-5734) is a nucleotide analog prodrug has been clinically proven to be efficacious against both Ebola virus disease and COVID-19, otherwise known as SARS-CoV-2. A 2016 study using rhesus monkeys as a model organism found that once-daily intravenous administration of Remdesivir protected 100% of animals infected with Ebola virus protein (EBOV) against Ebola virus disease, ameliorating clinical disease signs and pathophysiological markers (Warren et al., 2016). A recent clinical study done with human patients infected with SARS-CoV-2 found that patients who received Remdesivir had a lower median recovery time, higher likelihood of clinical improvement, and lower estimates of mortality as opposed to those who received the placebo (Beigel et al., 2020). "
   ]
  },
  {
   "cell_type": "markdown",
   "id": "a0d3f154",
   "metadata": {},
   "source": [
    "The triphosphate form of Remdesivir (RDV-TP) has been biochemically shown to act as an inhibitor of the RdRps of many viruses, including the ones mentioned above. Upon inhibition binding, it inhibits RdRp activity as a nonobligate delayed chain terminator at position i+3 in the chain. RDV-TP is successful in this task because of its uniquely high selectivity over the incroporation of its natural nucleotide counterpart ATP (Gordon et al., 2020). "
   ]
  },
  {
   "cell_type": "markdown",
   "id": "37be9b37",
   "metadata": {},
   "source": [
    "For this project, the NCBI Protein database was used to collect the protein sequences of EBOV RdRp and Sars-CoV-2 RdRp. The NCBI Protein database can be accessed through the following url: https://www.ncbi.nlm.nih.gov/protein. Based on the website, it is \"a collection of sequences from several sources, including translations from annotated coding regions in GenBank, RefSeq, and TPA, as well as records from SwissProt, PIR, PRF, and PDB.\"\n",
    "\n",
    "In addition, Protein Data Bank was used for a variety of tasks. First, it was used to find the electron microscopy-determined structure of SARS-CoV-2 RdRP. Secondly, it was employed in the BLAST code to search for template structures to use for EBOV RdRP homology structure modeling. The Protein Data Bank can be accessed through the following url: https://www.rcsb.org/. Based on the website, it is an archive of \"the 3D shapes of proteins, nucleic acids, and complex assemblies.\"\n",
    "\n",
    "SWISS-MODEL was another outside resource that was used to search for template structures and to build several homology models of EBOV RdRp based on various templates. SWISS-MODEL can be accessed through the following url: https://swissmodel.expasy.org/. Based on the website, it is a \"fully automated protein structure homology-modelling server\" that exists to \"make protein modelling accessible to all life science researchers.\" "
   ]
  },
  {
   "cell_type": "markdown",
   "id": "971f31b7",
   "metadata": {},
   "source": [
    "### Hypothesis: If the nucleotide analog prodrug Remdesivir can successfully inhibit the spread of both SARS-CoV-2 and Ebola virus in a host organism and if it is known that Remdesivir works by targeting viral RNA-dependent RNA polymerases, then the RNA-dependent RNA polymerase domains of SARS-CoV-2 and Ebola virus must be similar in structure, particularly at the drug's binding site. "
   ]
  },
  {
   "cell_type": "markdown",
   "id": "b6eaf018",
   "metadata": {},
   "source": [
    "Deriving and understanding the structures of the SARS-CoV-2 RdRp and EBOV RdRp is first necessary to completing a thorough evaluation of the similarities and differences between the two protein structures. The electron-microscopy-derived structure of SARS-CoV-2 RdRp was found through a search of the Protein Data Bank. This structure was saved to this Jupyter Notebook as a PDB file and displayed using NGLviewer for qualitative analysis. "
   ]
  },
  {
   "cell_type": "markdown",
   "id": "7b68acd1",
   "metadata": {},
   "source": [
    "A search through Protein Data Bank was unable to identify an experimentally-determined structure of EBOV RdRp. As such, homology structure modeling of EBOV RdRp was done. First, a BLAST search was employed in Jupyter Notebook to search for template structures.  Several models of EBOV RdRp were then constructed on SWISS-MODEL using a variety of selected template structures from the BLAST search.* The better models were chosen, saved to this Jupyter Notebook as PDB files, and displayed using NGLviewer for qualitative analysis and comparison against the SARS-CoV-2 RdRP structure."
   ]
  },
  {
   "cell_type": "markdown",
   "id": "13d9f017",
   "metadata": {},
   "source": [
    "*Homology structure modeling was done using SWISS-MODEL, an outside resource, as opposed to directly in this Jupyter Notebook because of the incompatibility of many modeling libraries with Jupyter Notebook. For example, the Protein class of ssbio, a Python package for structural systems biology, was unable to be fully imported into Jupyter Notebook because of its reliance on the IUPAC module from Bio.Alphabet, which has been removed from Biopython and can no longer be imported even on its own. "
   ]
  },
  {
   "cell_type": "markdown",
   "id": "71aa0c65",
   "metadata": {},
   "source": [
    "### Part 1: Load the Packages"
   ]
  },
  {
   "cell_type": "markdown",
   "id": "b8e92f47",
   "metadata": {},
   "source": [
    "Packages loaded include the following:"
   ]
  },
  {
   "cell_type": "markdown",
   "id": "64a4c090",
   "metadata": {},
   "source": [
    "• Biopython: This is a freely availably open source tool that took rise from an international collaboration of volunteer developers. Biopython provides Python libraries for a wide range of bioinformatic problems and analyses. Biopython includes a whole host of modules for performing  variety of tasks relating to computational biology. Some of these tasks include reading and writing different sequence file formats, performing multiple sequence alignments, and dealing with 3D macro molecular structures. Biopython also has the capability of interacting with common tools such as BLAST, ClustalW, and EMBOSS. Additionally, it can access key online databases and provide numerical methods for statistical learning. For more information on Biopython, visit the Biopython tutorial and cookbook page found here: http://biopython.org/DIST/docs/tutorial/Tutorial.html#sec3  "
   ]
  },
  {
   "cell_type": "markdown",
   "id": "b361356f",
   "metadata": {},
   "source": [
    "• Pytraj: Pytraj is a front-end cpptraj package aimed to provide tools for interactive data anslysis for molecular dynamics simulations. In other words, Pytraj is an extension of the cpptraj program intended to expand the flexibiility of cpptraj, exposing cpptraj's functionality to the rest of the Python ecosystem, including numpy, pandas, and matplotlib. Pytraj can be used for basic tasks, including loading files to memory and computing RMSD. The main advantage of using Pytraj is that it can be used in conjunction with several other Python packages as outlined above. Additionally, it supports more than 80 types of data analyses, various file formats, and interactive analysis with large trajectory data that does not fit to memory, in addition to being very high-speed. For more information on Pytraj, visit the developer's page on Github found here: https://github.com/Amber-MD/pytraj"
   ]
  },
  {
   "cell_type": "markdown",
   "id": "daee6ab7",
   "metadata": {},
   "source": [
    "• Nglviewer: This is a Jupyter/IPython widget for interactively viewing molecular structures in addition to trajectories from molecular dynamics simulations. NGLviewer offers fast and scalable molecular graphics. It supports showing data from the file-system, online databases, and from objects of many popular analysis libraries including mdtraj, pytraj, mdanalysis, rdkit, and more. Unlike many standalone visualization packages like VMD, Chimera, and PyMol, NGLviewer integrates computation and visualization directly in Jupyter Notebook. It is also unique in that it offers the integration of many third-part libraries for computations on molecular data. For more information on NGLviewer, visit the NGLviewer manual: http://nglviewer.org/ngl/api/manual/"
   ]
  },
  {
   "cell_type": "code",
   "execution_count": 1,
   "id": "93ddfec9",
   "metadata": {},
   "outputs": [
    {
     "name": "stdout",
     "output_type": "stream",
     "text": [
      "Requirement already satisfied: Bio in /Users/elizabethsun/opt/anaconda3/lib/python3.8/site-packages (1.3.2)\n",
      "Requirement already satisfied: biopython>=1.79 in /Users/elizabethsun/opt/anaconda3/lib/python3.8/site-packages (from Bio) (1.79)\n",
      "Requirement already satisfied: requests in /Users/elizabethsun/opt/anaconda3/lib/python3.8/site-packages (from Bio) (2.25.1)\n",
      "Requirement already satisfied: mygene in /Users/elizabethsun/opt/anaconda3/lib/python3.8/site-packages (from Bio) (3.2.2)\n",
      "Requirement already satisfied: tqdm in /Users/elizabethsun/opt/anaconda3/lib/python3.8/site-packages (from Bio) (4.59.0)\n",
      "Requirement already satisfied: numpy in /Users/elizabethsun/opt/anaconda3/lib/python3.8/site-packages (from biopython>=1.79->Bio) (1.20.1)\n",
      "Requirement already satisfied: biothings-client>=0.2.6 in /Users/elizabethsun/opt/anaconda3/lib/python3.8/site-packages (from mygene->Bio) (0.2.6)\n",
      "Requirement already satisfied: certifi>=2017.4.17 in /Users/elizabethsun/opt/anaconda3/lib/python3.8/site-packages (from requests->Bio) (2020.12.5)\n",
      "Requirement already satisfied: chardet<5,>=3.0.2 in /Users/elizabethsun/opt/anaconda3/lib/python3.8/site-packages (from requests->Bio) (4.0.0)\n",
      "Requirement already satisfied: idna<3,>=2.5 in /Users/elizabethsun/opt/anaconda3/lib/python3.8/site-packages (from requests->Bio) (2.10)\n",
      "Requirement already satisfied: urllib3<1.27,>=1.21.1 in /Users/elizabethsun/opt/anaconda3/lib/python3.8/site-packages (from requests->Bio) (1.26.4)\n",
      "Note: you may need to restart the kernel to use updated packages.\n"
     ]
    }
   ],
   "source": [
    "pip install Bio"
   ]
  },
  {
   "cell_type": "code",
   "execution_count": 2,
   "id": "25f60290",
   "metadata": {},
   "outputs": [],
   "source": [
    "#This is necessary for performing the BLAST search \n",
    "from Bio.Blast import NCBIWWW"
   ]
  },
  {
   "cell_type": "code",
   "execution_count": 3,
   "id": "fe1656ea",
   "metadata": {},
   "outputs": [
    {
     "name": "stdout",
     "output_type": "stream",
     "text": [
      "Requirement already satisfied: pytraj in /Users/elizabethsun/opt/anaconda3/lib/python3.8/site-packages (2.0.5)\n",
      "Requirement already satisfied: numpy in /Users/elizabethsun/opt/anaconda3/lib/python3.8/site-packages (from pytraj) (1.20.1)\n",
      "Note: you may need to restart the kernel to use updated packages.\n"
     ]
    }
   ],
   "source": [
    "pip install pytraj"
   ]
  },
  {
   "cell_type": "code",
   "execution_count": 4,
   "id": "4ba0a215",
   "metadata": {},
   "outputs": [
    {
     "name": "stdout",
     "output_type": "stream",
     "text": [
      "Requirement already satisfied: nglview in /Users/elizabethsun/opt/anaconda3/lib/python3.8/site-packages (3.0.3+5.g5af7bc9)\n",
      "Requirement already satisfied: numpy in /Users/elizabethsun/opt/anaconda3/lib/python3.8/site-packages (from nglview) (1.20.1)\n",
      "Requirement already satisfied: jupyterlab-widgets in /Users/elizabethsun/opt/anaconda3/lib/python3.8/site-packages (from nglview) (1.0.0)\n",
      "Requirement already satisfied: ipywidgets>=7 in /Users/elizabethsun/opt/anaconda3/lib/python3.8/site-packages (from nglview) (7.0.0)\n",
      "Requirement already satisfied: nbformat>=4.2.0 in /Users/elizabethsun/opt/anaconda3/lib/python3.8/site-packages (from ipywidgets>=7->nglview) (5.1.3)\n",
      "Requirement already satisfied: widgetsnbextension~=3.0.0 in /Users/elizabethsun/opt/anaconda3/lib/python3.8/site-packages (from ipywidgets>=7->nglview) (3.0.8)\n",
      "Requirement already satisfied: ipykernel>=4.5.1 in /Users/elizabethsun/opt/anaconda3/lib/python3.8/site-packages (from ipywidgets>=7->nglview) (5.3.4)\n",
      "Requirement already satisfied: ipython>=4.0.0 in /Users/elizabethsun/opt/anaconda3/lib/python3.8/site-packages (from ipywidgets>=7->nglview) (7.22.0)\n",
      "Requirement already satisfied: traitlets>=4.3.1 in /Users/elizabethsun/opt/anaconda3/lib/python3.8/site-packages (from ipywidgets>=7->nglview) (5.0.5)\n",
      "Requirement already satisfied: jupyter-client in /Users/elizabethsun/opt/anaconda3/lib/python3.8/site-packages (from ipykernel>=4.5.1->ipywidgets>=7->nglview) (6.1.12)\n",
      "Requirement already satisfied: tornado>=4.2 in /Users/elizabethsun/opt/anaconda3/lib/python3.8/site-packages (from ipykernel>=4.5.1->ipywidgets>=7->nglview) (6.1)\n",
      "Requirement already satisfied: appnope in /Users/elizabethsun/opt/anaconda3/lib/python3.8/site-packages (from ipykernel>=4.5.1->ipywidgets>=7->nglview) (0.1.2)\n",
      "Requirement already satisfied: pexpect>4.3 in /Users/elizabethsun/opt/anaconda3/lib/python3.8/site-packages (from ipython>=4.0.0->ipywidgets>=7->nglview) (4.8.0)\n",
      "Requirement already satisfied: backcall in /Users/elizabethsun/opt/anaconda3/lib/python3.8/site-packages (from ipython>=4.0.0->ipywidgets>=7->nglview) (0.2.0)\n",
      "Requirement already satisfied: jedi>=0.16 in /Users/elizabethsun/opt/anaconda3/lib/python3.8/site-packages (from ipython>=4.0.0->ipywidgets>=7->nglview) (0.17.2)\n",
      "Requirement already satisfied: setuptools>=18.5 in /Users/elizabethsun/opt/anaconda3/lib/python3.8/site-packages (from ipython>=4.0.0->ipywidgets>=7->nglview) (52.0.0.post20210125)\n",
      "Requirement already satisfied: pickleshare in /Users/elizabethsun/opt/anaconda3/lib/python3.8/site-packages (from ipython>=4.0.0->ipywidgets>=7->nglview) (0.7.5)\n",
      "Requirement already satisfied: decorator in /Users/elizabethsun/opt/anaconda3/lib/python3.8/site-packages (from ipython>=4.0.0->ipywidgets>=7->nglview) (5.0.6)\n",
      "Requirement already satisfied: prompt-toolkit!=3.0.0,!=3.0.1,<3.1.0,>=2.0.0 in /Users/elizabethsun/opt/anaconda3/lib/python3.8/site-packages (from ipython>=4.0.0->ipywidgets>=7->nglview) (3.0.17)\n",
      "Requirement already satisfied: pygments in /Users/elizabethsun/opt/anaconda3/lib/python3.8/site-packages (from ipython>=4.0.0->ipywidgets>=7->nglview) (2.8.1)\n",
      "Requirement already satisfied: parso<0.8.0,>=0.7.0 in /Users/elizabethsun/opt/anaconda3/lib/python3.8/site-packages (from jedi>=0.16->ipython>=4.0.0->ipywidgets>=7->nglview) (0.7.0)\n",
      "Requirement already satisfied: jupyter-core in /Users/elizabethsun/opt/anaconda3/lib/python3.8/site-packages (from nbformat>=4.2.0->ipywidgets>=7->nglview) (4.7.1)\n",
      "Requirement already satisfied: ipython-genutils in /Users/elizabethsun/opt/anaconda3/lib/python3.8/site-packages (from nbformat>=4.2.0->ipywidgets>=7->nglview) (0.2.0)\n",
      "Requirement already satisfied: jsonschema!=2.5.0,>=2.4 in /Users/elizabethsun/opt/anaconda3/lib/python3.8/site-packages (from nbformat>=4.2.0->ipywidgets>=7->nglview) (3.2.0)\n",
      "Requirement already satisfied: attrs>=17.4.0 in /Users/elizabethsun/opt/anaconda3/lib/python3.8/site-packages (from jsonschema!=2.5.0,>=2.4->nbformat>=4.2.0->ipywidgets>=7->nglview) (21.2.0)\n",
      "Requirement already satisfied: pyrsistent>=0.14.0 in /Users/elizabethsun/opt/anaconda3/lib/python3.8/site-packages (from jsonschema!=2.5.0,>=2.4->nbformat>=4.2.0->ipywidgets>=7->nglview) (0.17.3)\n",
      "Requirement already satisfied: six>=1.11.0 in /Users/elizabethsun/opt/anaconda3/lib/python3.8/site-packages (from jsonschema!=2.5.0,>=2.4->nbformat>=4.2.0->ipywidgets>=7->nglview) (1.15.0)\n",
      "Requirement already satisfied: ptyprocess>=0.5 in /Users/elizabethsun/opt/anaconda3/lib/python3.8/site-packages (from pexpect>4.3->ipython>=4.0.0->ipywidgets>=7->nglview) (0.7.0)\n",
      "Requirement already satisfied: wcwidth in /Users/elizabethsun/opt/anaconda3/lib/python3.8/site-packages (from prompt-toolkit!=3.0.0,!=3.0.1,<3.1.0,>=2.0.0->ipython>=4.0.0->ipywidgets>=7->nglview) (0.2.5)\n",
      "Requirement already satisfied: notebook>=4.4.1 in /Users/elizabethsun/opt/anaconda3/lib/python3.8/site-packages (from widgetsnbextension~=3.0.0->ipywidgets>=7->nglview) (6.3.0)\n",
      "Requirement already satisfied: nbconvert in /Users/elizabethsun/opt/anaconda3/lib/python3.8/site-packages (from notebook>=4.4.1->widgetsnbextension~=3.0.0->ipywidgets>=7->nglview) (6.0.7)\n",
      "Requirement already satisfied: prometheus-client in /Users/elizabethsun/opt/anaconda3/lib/python3.8/site-packages (from notebook>=4.4.1->widgetsnbextension~=3.0.0->ipywidgets>=7->nglview) (0.10.1)\n",
      "Requirement already satisfied: Send2Trash>=1.5.0 in /Users/elizabethsun/opt/anaconda3/lib/python3.8/site-packages (from notebook>=4.4.1->widgetsnbextension~=3.0.0->ipywidgets>=7->nglview) (1.5.0)\n",
      "Requirement already satisfied: jinja2 in /Users/elizabethsun/opt/anaconda3/lib/python3.8/site-packages (from notebook>=4.4.1->widgetsnbextension~=3.0.0->ipywidgets>=7->nglview) (2.11.3)\n",
      "Requirement already satisfied: pyzmq>=17 in /Users/elizabethsun/opt/anaconda3/lib/python3.8/site-packages (from notebook>=4.4.1->widgetsnbextension~=3.0.0->ipywidgets>=7->nglview) (20.0.0)\n",
      "Requirement already satisfied: argon2-cffi in /Users/elizabethsun/opt/anaconda3/lib/python3.8/site-packages (from notebook>=4.4.1->widgetsnbextension~=3.0.0->ipywidgets>=7->nglview) (20.1.0)\n",
      "Requirement already satisfied: terminado>=0.8.3 in /Users/elizabethsun/opt/anaconda3/lib/python3.8/site-packages (from notebook>=4.4.1->widgetsnbextension~=3.0.0->ipywidgets>=7->nglview) (0.9.4)\n",
      "Requirement already satisfied: python-dateutil>=2.1 in /Users/elizabethsun/opt/anaconda3/lib/python3.8/site-packages (from jupyter-client->ipykernel>=4.5.1->ipywidgets>=7->nglview) (2.8.1)\n",
      "Requirement already satisfied: cffi>=1.0.0 in /Users/elizabethsun/opt/anaconda3/lib/python3.8/site-packages (from argon2-cffi->notebook>=4.4.1->widgetsnbextension~=3.0.0->ipywidgets>=7->nglview) (1.14.5)\n",
      "Requirement already satisfied: pycparser in /Users/elizabethsun/opt/anaconda3/lib/python3.8/site-packages (from cffi>=1.0.0->argon2-cffi->notebook>=4.4.1->widgetsnbextension~=3.0.0->ipywidgets>=7->nglview) (2.20)\n",
      "Requirement already satisfied: MarkupSafe>=0.23 in /Users/elizabethsun/opt/anaconda3/lib/python3.8/site-packages (from jinja2->notebook>=4.4.1->widgetsnbextension~=3.0.0->ipywidgets>=7->nglview) (1.1.1)\n",
      "Requirement already satisfied: testpath in /Users/elizabethsun/opt/anaconda3/lib/python3.8/site-packages (from nbconvert->notebook>=4.4.1->widgetsnbextension~=3.0.0->ipywidgets>=7->nglview) (0.4.4)\n",
      "Requirement already satisfied: defusedxml in /Users/elizabethsun/opt/anaconda3/lib/python3.8/site-packages (from nbconvert->notebook>=4.4.1->widgetsnbextension~=3.0.0->ipywidgets>=7->nglview) (0.7.1)\n",
      "Requirement already satisfied: nbclient<0.6.0,>=0.5.0 in /Users/elizabethsun/opt/anaconda3/lib/python3.8/site-packages (from nbconvert->notebook>=4.4.1->widgetsnbextension~=3.0.0->ipywidgets>=7->nglview) (0.5.3)\n",
      "Requirement already satisfied: mistune<2,>=0.8.1 in /Users/elizabethsun/opt/anaconda3/lib/python3.8/site-packages (from nbconvert->notebook>=4.4.1->widgetsnbextension~=3.0.0->ipywidgets>=7->nglview) (0.8.4)\n",
      "Requirement already satisfied: entrypoints>=0.2.2 in /Users/elizabethsun/opt/anaconda3/lib/python3.8/site-packages (from nbconvert->notebook>=4.4.1->widgetsnbextension~=3.0.0->ipywidgets>=7->nglview) (0.3)\n",
      "Requirement already satisfied: pandocfilters>=1.4.1 in /Users/elizabethsun/opt/anaconda3/lib/python3.8/site-packages (from nbconvert->notebook>=4.4.1->widgetsnbextension~=3.0.0->ipywidgets>=7->nglview) (1.4.3)\n",
      "Requirement already satisfied: bleach in /Users/elizabethsun/opt/anaconda3/lib/python3.8/site-packages (from nbconvert->notebook>=4.4.1->widgetsnbextension~=3.0.0->ipywidgets>=7->nglview) (3.3.0)\n",
      "Requirement already satisfied: jupyterlab-pygments in /Users/elizabethsun/opt/anaconda3/lib/python3.8/site-packages (from nbconvert->notebook>=4.4.1->widgetsnbextension~=3.0.0->ipywidgets>=7->nglview) (0.1.2)\n",
      "Requirement already satisfied: nest-asyncio in /Users/elizabethsun/opt/anaconda3/lib/python3.8/site-packages (from nbclient<0.6.0,>=0.5.0->nbconvert->notebook>=4.4.1->widgetsnbextension~=3.0.0->ipywidgets>=7->nglview) (1.5.1)\n",
      "Requirement already satisfied: async-generator in /Users/elizabethsun/opt/anaconda3/lib/python3.8/site-packages (from nbclient<0.6.0,>=0.5.0->nbconvert->notebook>=4.4.1->widgetsnbextension~=3.0.0->ipywidgets>=7->nglview) (1.10)\n",
      "Requirement already satisfied: packaging in /Users/elizabethsun/opt/anaconda3/lib/python3.8/site-packages (from bleach->nbconvert->notebook>=4.4.1->widgetsnbextension~=3.0.0->ipywidgets>=7->nglview) (20.9)\n",
      "Requirement already satisfied: webencodings in /Users/elizabethsun/opt/anaconda3/lib/python3.8/site-packages (from bleach->nbconvert->notebook>=4.4.1->widgetsnbextension~=3.0.0->ipywidgets>=7->nglview) (0.5.1)\n",
      "Requirement already satisfied: pyparsing>=2.0.2 in /Users/elizabethsun/opt/anaconda3/lib/python3.8/site-packages (from packaging->bleach->nbconvert->notebook>=4.4.1->widgetsnbextension~=3.0.0->ipywidgets>=7->nglview) (2.4.7)\n",
      "Note: you may need to restart the kernel to use updated packages.\n"
     ]
    }
   ],
   "source": [
    "pip install nglview"
   ]
  },
  {
   "cell_type": "code",
   "execution_count": 5,
   "id": "3aba8257",
   "metadata": {},
   "outputs": [
    {
     "name": "stdout",
     "output_type": "stream",
     "text": [
      "Collecting package metadata (current_repodata.json): done\n",
      "Solving environment: done\n",
      "\n",
      "# All requested packages already installed.\n",
      "\n",
      "\n",
      "Note: you may need to restart the kernel to use updated packages.\n"
     ]
    }
   ],
   "source": [
    "conda install nglview -c conda-forge"
   ]
  },
  {
   "cell_type": "code",
   "execution_count": 6,
   "id": "f1ae4fe8",
   "metadata": {},
   "outputs": [
    {
     "name": "stdout",
     "output_type": "stream",
     "text": [
      "\n",
      "\n",
      "WARNING: The --force flag will be removed in a future conda release.\n",
      "         See 'conda update --help' for details about the --force-reinstall\n",
      "         and --clobber flags.\n",
      "\n",
      "\n",
      "Collecting package metadata (current_repodata.json): done\n",
      "Solving environment: done\n",
      "\n",
      "## Package Plan ##\n",
      "\n",
      "  environment location: /Users/elizabethsun/opt/anaconda3\n",
      "\n",
      "  added / updated specs:\n",
      "    - nglview\n",
      "\n",
      "\n",
      "\n",
      "Preparing transaction: done\n",
      "Verifying transaction: failed\n",
      "\n",
      "CondaVerificationError: The package for nglview located at /Users/elizabethsun/opt/anaconda3/pkgs/nglview-3.0.3-pyh8a188c0_0\n",
      "appears to be corrupted. The path 'etc/jupyter/nbconfig/notebook.d/nglview-js-widgets.json'\n",
      "specified in the package manifest cannot be found.\n",
      "\n",
      "CondaVerificationError: The package for nglview located at /Users/elizabethsun/opt/anaconda3/pkgs/nglview-3.0.3-pyh8a188c0_0\n",
      "appears to be corrupted. The path 'share/jupyter/labextensions/nglview-js-widgets/package.json'\n",
      "specified in the package manifest cannot be found.\n",
      "\n",
      "CondaVerificationError: The package for nglview located at /Users/elizabethsun/opt/anaconda3/pkgs/nglview-3.0.3-pyh8a188c0_0\n",
      "appears to be corrupted. The path 'share/jupyter/labextensions/nglview-js-widgets/static/0de3b51742ed3ac61435875bccd8973b.png'\n",
      "specified in the package manifest cannot be found.\n",
      "\n",
      "CondaVerificationError: The package for nglview located at /Users/elizabethsun/opt/anaconda3/pkgs/nglview-3.0.3-pyh8a188c0_0\n",
      "appears to be corrupted. The path 'share/jupyter/labextensions/nglview-js-widgets/static/133.0c12809866ed16ed02fe.js'\n",
      "specified in the package manifest cannot be found.\n",
      "\n",
      "CondaVerificationError: The package for nglview located at /Users/elizabethsun/opt/anaconda3/pkgs/nglview-3.0.3-pyh8a188c0_0\n",
      "appears to be corrupted. The path 'share/jupyter/labextensions/nglview-js-widgets/static/208a290102a4ada58a04de354a1354d7.png'\n",
      "specified in the package manifest cannot be found.\n",
      "\n",
      "CondaVerificationError: The package for nglview located at /Users/elizabethsun/opt/anaconda3/pkgs/nglview-3.0.3-pyh8a188c0_0\n",
      "appears to be corrupted. The path 'share/jupyter/labextensions/nglview-js-widgets/static/325.0f8271db6262c6939811.js'\n",
      "specified in the package manifest cannot be found.\n",
      "\n",
      "CondaVerificationError: The package for nglview located at /Users/elizabethsun/opt/anaconda3/pkgs/nglview-3.0.3-pyh8a188c0_0\n",
      "appears to be corrupted. The path 'share/jupyter/labextensions/nglview-js-widgets/static/325.0f8271db6262c6939811.js.LICENSE.txt'\n",
      "specified in the package manifest cannot be found.\n",
      "\n",
      "CondaVerificationError: The package for nglview located at /Users/elizabethsun/opt/anaconda3/pkgs/nglview-3.0.3-pyh8a188c0_0\n",
      "appears to be corrupted. The path 'share/jupyter/labextensions/nglview-js-widgets/static/421.04c3327cf7f16704c3b2.js'\n",
      "specified in the package manifest cannot be found.\n",
      "\n",
      "CondaVerificationError: The package for nglview located at /Users/elizabethsun/opt/anaconda3/pkgs/nglview-3.0.3-pyh8a188c0_0\n",
      "appears to be corrupted. The path 'share/jupyter/labextensions/nglview-js-widgets/static/421.04c3327cf7f16704c3b2.js.LICENSE.txt'\n",
      "specified in the package manifest cannot be found.\n",
      "\n",
      "CondaVerificationError: The package for nglview located at /Users/elizabethsun/opt/anaconda3/pkgs/nglview-3.0.3-pyh8a188c0_0\n",
      "appears to be corrupted. The path 'share/jupyter/labextensions/nglview-js-widgets/static/534.eaec54f1d3737a7e98b9.js'\n",
      "specified in the package manifest cannot be found.\n",
      "\n",
      "CondaVerificationError: The package for nglview located at /Users/elizabethsun/opt/anaconda3/pkgs/nglview-3.0.3-pyh8a188c0_0\n",
      "appears to be corrupted. The path 'share/jupyter/labextensions/nglview-js-widgets/static/568.bafd4ba9bc687cad6615.js'\n",
      "specified in the package manifest cannot be found.\n",
      "\n",
      "CondaVerificationError: The package for nglview located at /Users/elizabethsun/opt/anaconda3/pkgs/nglview-3.0.3-pyh8a188c0_0\n",
      "appears to be corrupted. The path 'share/jupyter/labextensions/nglview-js-widgets/static/73a1fd052c9d84c0ee0bea3ee85892ed.png'\n",
      "specified in the package manifest cannot be found.\n",
      "\n",
      "CondaVerificationError: The package for nglview located at /Users/elizabethsun/opt/anaconda3/pkgs/nglview-3.0.3-pyh8a188c0_0\n",
      "appears to be corrupted. The path 'share/jupyter/labextensions/nglview-js-widgets/static/755.096b3c4de99557ca2b8c.js'\n",
      "specified in the package manifest cannot be found.\n",
      "\n",
      "CondaVerificationError: The package for nglview located at /Users/elizabethsun/opt/anaconda3/pkgs/nglview-3.0.3-pyh8a188c0_0\n",
      "appears to be corrupted. The path 'share/jupyter/labextensions/nglview-js-widgets/static/755.096b3c4de99557ca2b8c.js.LICENSE.txt'\n",
      "specified in the package manifest cannot be found.\n",
      "\n",
      "CondaVerificationError: The package for nglview located at /Users/elizabethsun/opt/anaconda3/pkgs/nglview-3.0.3-pyh8a188c0_0\n",
      "appears to be corrupted. The path 'share/jupyter/labextensions/nglview-js-widgets/static/776.5c1b8b0dcd384e09bac7.js'\n",
      "specified in the package manifest cannot be found.\n",
      "\n",
      "CondaVerificationError: The package for nglview located at /Users/elizabethsun/opt/anaconda3/pkgs/nglview-3.0.3-pyh8a188c0_0\n",
      "appears to be corrupted. The path 'share/jupyter/labextensions/nglview-js-widgets/static/963.c74810793d3d55c01a23.js'\n",
      "specified in the package manifest cannot be found.\n",
      "\n",
      "CondaVerificationError: The package for nglview located at /Users/elizabethsun/opt/anaconda3/pkgs/nglview-3.0.3-pyh8a188c0_0\n",
      "appears to be corrupted. The path 'share/jupyter/labextensions/nglview-js-widgets/static/971364734f3b603e5d363a2634898b42.png'\n",
      "specified in the package manifest cannot be found.\n",
      "\n",
      "CondaVerificationError: The package for nglview located at /Users/elizabethsun/opt/anaconda3/pkgs/nglview-3.0.3-pyh8a188c0_0\n",
      "appears to be corrupted. The path 'share/jupyter/labextensions/nglview-js-widgets/static/a4c733ec4baef9ad3896d4e34a8a5448.png'\n",
      "specified in the package manifest cannot be found.\n",
      "\n",
      "CondaVerificationError: The package for nglview located at /Users/elizabethsun/opt/anaconda3/pkgs/nglview-3.0.3-pyh8a188c0_0\n",
      "appears to be corrupted. The path 'share/jupyter/labextensions/nglview-js-widgets/static/bf27228a7d3957983584fa7698121ea1.png'\n",
      "specified in the package manifest cannot be found.\n",
      "\n",
      "CondaVerificationError: The package for nglview located at /Users/elizabethsun/opt/anaconda3/pkgs/nglview-3.0.3-pyh8a188c0_0\n",
      "appears to be corrupted. The path 'share/jupyter/labextensions/nglview-js-widgets/static/remoteEntry.4560fdad4055be520b35.js'\n",
      "specified in the package manifest cannot be found.\n",
      "\n",
      "CondaVerificationError: The package for nglview located at /Users/elizabethsun/opt/anaconda3/pkgs/nglview-3.0.3-pyh8a188c0_0\n",
      "appears to be corrupted. The path 'share/jupyter/labextensions/nglview-js-widgets/static/style.js'\n",
      "specified in the package manifest cannot be found.\n",
      "\n",
      "CondaVerificationError: The package for nglview located at /Users/elizabethsun/opt/anaconda3/pkgs/nglview-3.0.3-pyh8a188c0_0\n",
      "appears to be corrupted. The path 'share/jupyter/nbextensions/nglview-js-widgets/extension.js'\n",
      "specified in the package manifest cannot be found.\n",
      "\n",
      "CondaVerificationError: The package for nglview located at /Users/elizabethsun/opt/anaconda3/pkgs/nglview-3.0.3-pyh8a188c0_0\n",
      "appears to be corrupted. The path 'share/jupyter/nbextensions/nglview-js-widgets/index.js'\n",
      "specified in the package manifest cannot be found.\n",
      "\n",
      "CondaVerificationError: The package for nglview located at /Users/elizabethsun/opt/anaconda3/pkgs/nglview-3.0.3-pyh8a188c0_0\n",
      "appears to be corrupted. The path 'share/jupyter/nbextensions/nglview-js-widgets/index.js.map'\n",
      "specified in the package manifest cannot be found.\n",
      "\n",
      "CondaVerificationError: The package for nglview located at /Users/elizabethsun/opt/anaconda3/pkgs/nglview-3.0.3-pyh8a188c0_0\n",
      "appears to be corrupted. The path 'site-packages/nglview/scripts/nglview.py'\n",
      "specified in the package manifest cannot be found.\n",
      "\n",
      "CondaVerificationError: The package for nglview located at /Users/elizabethsun/opt/anaconda3/pkgs/nglview-3.0.3-pyh8a188c0_0\n",
      "appears to be corrupted. The path 'site-packages/nglview/widget.py'\n",
      "specified in the package manifest cannot be found.\n",
      "\n",
      "\n",
      "\n",
      "Note: you may need to restart the kernel to use updated packages.\n"
     ]
    }
   ],
   "source": [
    "conda upgrade nglview --force"
   ]
  },
  {
   "cell_type": "code",
   "execution_count": 17,
   "id": "2619f9ad",
   "metadata": {},
   "outputs": [],
   "source": [
    "import ipywidgets"
   ]
  },
  {
   "cell_type": "code",
   "execution_count": 18,
   "id": "100bbf3e",
   "metadata": {},
   "outputs": [
    {
     "ename": "ModuleNotFoundError",
     "evalue": "No module named 'nglview.widget'",
     "output_type": "error",
     "traceback": [
      "\u001b[0;31m---------------------------------------------------------------------------\u001b[0m",
      "\u001b[0;31mModuleNotFoundError\u001b[0m                       Traceback (most recent call last)",
      "\u001b[0;32m<ipython-input-18-cb68b64d2924>\u001b[0m in \u001b[0;36m<module>\u001b[0;34m\u001b[0m\n\u001b[1;32m      1\u001b[0m \u001b[0;32mimport\u001b[0m \u001b[0mpytraj\u001b[0m \u001b[0;32mas\u001b[0m \u001b[0mpt\u001b[0m\u001b[0;34m\u001b[0m\u001b[0;34m\u001b[0m\u001b[0m\n\u001b[0;32m----> 2\u001b[0;31m \u001b[0;32mimport\u001b[0m \u001b[0mnglview\u001b[0m \u001b[0;32mas\u001b[0m \u001b[0mnv\u001b[0m\u001b[0;34m\u001b[0m\u001b[0;34m\u001b[0m\u001b[0m\n\u001b[0m",
      "\u001b[0;32m~/opt/anaconda3/lib/python3.8/site-packages/nglview/__init__.py\u001b[0m in \u001b[0;36m<module>\u001b[0;34m\u001b[0m\n\u001b[1;32m      2\u001b[0m \u001b[0;34m\u001b[0m\u001b[0m\n\u001b[1;32m      3\u001b[0m \u001b[0;31m# for doc\u001b[0m\u001b[0;34m\u001b[0m\u001b[0;34m\u001b[0m\u001b[0;34m\u001b[0m\u001b[0m\n\u001b[0;32m----> 4\u001b[0;31m \u001b[0;32mfrom\u001b[0m \u001b[0;34m.\u001b[0m \u001b[0;32mimport\u001b[0m \u001b[0madaptor\u001b[0m\u001b[0;34m,\u001b[0m \u001b[0mdatafiles\u001b[0m\u001b[0;34m,\u001b[0m \u001b[0mshow\u001b[0m\u001b[0;34m,\u001b[0m \u001b[0mwidget\u001b[0m\u001b[0;34m\u001b[0m\u001b[0;34m\u001b[0m\u001b[0m\n\u001b[0m\u001b[1;32m      5\u001b[0m \u001b[0;32mfrom\u001b[0m \u001b[0;34m.\u001b[0m\u001b[0m_version\u001b[0m \u001b[0;32mimport\u001b[0m \u001b[0mget_versions\u001b[0m\u001b[0;34m\u001b[0m\u001b[0;34m\u001b[0m\u001b[0m\n\u001b[1;32m      6\u001b[0m \u001b[0;32mfrom\u001b[0m \u001b[0;34m.\u001b[0m\u001b[0madaptor\u001b[0m \u001b[0;32mimport\u001b[0m \u001b[0;34m*\u001b[0m\u001b[0;34m\u001b[0m\u001b[0;34m\u001b[0m\u001b[0m\n",
      "\u001b[0;32m~/opt/anaconda3/lib/python3.8/site-packages/nglview/show.py\u001b[0m in \u001b[0;36m<module>\u001b[0;34m\u001b[0m\n\u001b[1;32m     11\u001b[0m                       \u001b[0mRdkitStructure\u001b[0m\u001b[0;34m,\u001b[0m\u001b[0;34m\u001b[0m\u001b[0;34m\u001b[0m\u001b[0m\n\u001b[1;32m     12\u001b[0m                       TextStructure)\n\u001b[0;32m---> 13\u001b[0;31m \u001b[0;32mfrom\u001b[0m \u001b[0;34m.\u001b[0m\u001b[0mwidget\u001b[0m \u001b[0;32mimport\u001b[0m \u001b[0mNGLWidget\u001b[0m\u001b[0;34m\u001b[0m\u001b[0;34m\u001b[0m\u001b[0m\n\u001b[0m\u001b[1;32m     14\u001b[0m \u001b[0;34m\u001b[0m\u001b[0m\n\u001b[1;32m     15\u001b[0m __all__ = [\n",
      "\u001b[0;31mModuleNotFoundError\u001b[0m: No module named 'nglview.widget'"
     ]
    }
   ],
   "source": [
    "import pytraj as pt\n",
    "import nglview as nv"
   ]
  },
  {
   "cell_type": "markdown",
   "id": "d2b27d97",
   "metadata": {},
   "source": [
    "Explanation for above ModuleNotFoundError: Although previously working the week before, the import of nglview no longer works because Jupyter Notebook cannot find a module named nglview.widget despite several attempts at installing nglview in various ways shown above (i.e. pip install, conda install, conda upgrade, import ipywidgets, and other methods not shown in thie final jupyter notebook). This errors may have been introduced through attempts at correcting another widget-display error that has been persisting."
   ]
  },
  {
   "cell_type": "markdown",
   "id": "183b12b5",
   "metadata": {},
   "source": [
    "### Part 2A: Load in the sequence data and perform a BLAST Search for template structures (first bioinformatics method)"
   ]
  },
  {
   "cell_type": "markdown",
   "id": "0fde703b",
   "metadata": {},
   "source": [
    "Homology structure modeling refers to the construction of an model protein with a known sequence an unknown structure that is related to at least one other protein with both a known sequence and known structure. The quality of a homology structure model depends on the degree of similarity between the target sequence and the template sequences. Because of this, a BLAST search needs to be done to find sequences with the highest similarities to the target sequence. BLAST stands for Basic Local Alignment Search Tool. The tool is designed to compare nucleotide or protein sequences to sequence databases in order to find regions of similarity between biological sequences and ultimately output a list of sequences ordered from highest to lowest similarity to a target sequence.\n",
    "\n",
    "A FASTA file is a text file used for representing either nucleotide sequences or amino acid (protein) sequences. In a FASTA file, each sequence begins with a single-line description, containing a > symbol in the first column and the sequence name. This is followed by lines of sequence data. "
   ]
  },
  {
   "cell_type": "markdown",
   "id": "6bbed005",
   "metadata": {},
   "source": [
    "In the following code, protein sequence data from a FASTA file is read in. This data is displayed in an output. A BLAST search is conducted with the qblast method from NCBIWWW (imported above) and the output is stored in result_handle. The result_handle is then read and the results are displayed in a file titled \"EBOVresults.xml,\" saved into the Jupyter Notebook. "
   ]
  },
  {
   "cell_type": "code",
   "execution_count": 7,
   "id": "7a8e067e",
   "metadata": {},
   "outputs": [
    {
     "data": {
      "text/plain": [
       "\"{\\\\rtf1\\\\ansi\\\\ansicpg1252\\\\cocoartf2513\\n\\\\cocoatextscaling0\\\\cocoaplatform0{\\\\fonttbl\\\\f0\\\\fmodern\\\\fcharset0 Courier;}\\n{\\\\colortbl;\\\\red255\\\\green255\\\\blue255;\\\\red0\\\\green0\\\\blue0;\\\\red255\\\\green255\\\\blue255;}\\n{\\\\*\\\\expandedcolortbl;;\\\\cssrgb\\\\c0\\\\c0\\\\c0;\\\\cssrgb\\\\c100000\\\\c100000\\\\c100000;}\\n\\\\margl1440\\\\margr1440\\\\vieww10800\\\\viewh8400\\\\viewkind0\\n\\\\deftab720\\n\\\\pard\\\\pardeftab720\\\\partightenfactor0\\n\\n\\\\f0\\\\fs26 \\\\cf2 \\\\cb3 \\\\expnd0\\\\expndtw0\\\\kerning0\\n\\\\outl0\\\\strokewidth0 \\\\strokec2 >sp|Q05318.2|L_EBOZM RecName: Full=RNA-directed RNA polymerase L; Short=Protein L; AltName: Full=Large structural protein; AltName: Full=Replicase; AltName: Full=Transcriptase; Includes: RecName: Full=RNA-directed RNA polymerase; Includes: RecName: Full=GTP phosphohydrolase; Includes: RecName: Full=GDP polyribonucleotidyltransferase; AltName: Full=PRNTase; Includes: RecName: Full=mRNA cap methyltransferase; AltName: Full=mRNA (guanine-N(7)-)-methyltransferase; Short=G-N7-MTase; AltName: Full=mRNA (nucleoside-2'-O-)-methyltransferase; Short=N1-2'-O-MTase\\\\\\nMATQHTQYPDARLSSPIVLDQCDLVTRACGLYSSYSLNPQLRNCKLPKHIYRLKYDVTVTKFLSDVPVAT\\\\\\nLPIDFIVPVLLKALSGNGFCPVEPRCQQFLDEIIKYTMQDALFLKYYLKNVGAQEDCVDEHFQEKILSSI\\\\\\nQGNEFLHQMFFWYDLAILTRRGRLNRGNSRSTWFVHDDLIDILGYGDYVFWKIPISMLPLNTQGIPHAAM\\\\\\nDWYQASVFKEAVQGHTHIVSVSTADVLIMCKDLITCRFNTTLISKIAEIEDPVCSDYPNFKIVSMLYQSG\\\\\\nDYLLSILGSDGYKIIKFLEPLCLAKIQLCSKYTERKGRFLTQMHLAVNHTLEEITEMRALKPSQAQKIRE\\\\\\nFHRTLIRLEMTPQQLCELFSIQKHWGHPVLHSETAIQKVKKHATVLKALRPIVIFETYCVFKYSIAKHYF\\\\\\nDSQGSWYSVTSDRNLTPGLNSYIKRNQFPPLPMIKELLWEFYHLDHPPLFSTKIISDLSIFIKDRATAVE\\\\\\nRTCWDAVFEPNVLGYNPPHKFSTKRVPEQFLEQENFSIENVLSYAQKLEYLLPQYRNFSFSLKEKELNVG\\\\\\nRTFGKLPYPTRNVQTLCEALLADGLAKAFPSNMMVVTEREQKESLLHQASWHHTSDDFGEHATVRGSSFV\\\\\\nTDLEKYNLAFRYEFTAPFIEYCNRCYGVKNVFNWMHYTIPQCYMHVSDYYNPPHNLTLENRDNPPEGPSS\\\\\\nYRGHMGGIEGLQQKLWTSISCAQISLVEIKTGFKLRSAVMGDNQCITVLSVFPLETDADEQEQSAEDNAA\\\\\\nRVAASLAKVTSACGIFLKPDETFVHSGFIYFGKKQYLNGVQLPQSLKTATRMAPLSDAIFDDLQGTLASI\\\\\\nGTAFERSISETRHIFPCRITAAFHTFFSVRILQYHHLGFNKGFDLGQLTLGKPLDFGTISLALAVPQVLG\\\\\\nGLSFLNPEKCFYRNLGDPVTSGLFQLKTYLRMIEMDDLFLPLIAKNPGNCTAIDFVLNPSGLNVPGSQDL\\\\\\nTSFLRQIVRRTITLSAKNKLINTLFHASADFEDEMVCKWLLSSTPVMSRFAADIFSRTPSGKRLQILGYL\\\\\\nEGTRTLLASKIINNNTETPVLDRLRKITLQRWSLWFSYLDHCDNILAEALTQITCTVDLAQILREYSWAH\\\\\\nILEGRPLIGATLPCMIEQFKVFWLKPYEQCPQCSNAKQPGGKPFVSVAVKKHIVSAWPNASRISWTIGDG\\\\\\nIPYIGSRTEDKIGQPAIKPKCPSAALREAIELASRLTWVTQGSSNSDLLIKPFLEARVNLSVQEILQMTP\\\\\\nSHYSGNIVHRYNDQYSPHSFMANRMSNSATRLIVSTNTLGEFSGGGQSARDSNIIFQNVINYAVALFDIK\\\\\\nFRNTEATDIQYNRAHLHLTKCCTREVPAQYLTYTSTLDLDLTRYRENELIYDSNPLKGGLNCNISFDNPF\\\\\\nFQGKRLNIIEDDLIRLPHLSGWELAKTIMQSIISDSNNSSTDPISSGETRSFTTHFLTYPKIGLLYSFGA\\\\\\nFVSYYLGNTILRTKKLTLDNFLYYLTTQIHNLPHRSLRILKPTFKHASVMSRLMSIDPHFSIYIGGAAGD\\\\\\nRGLSDAARLFLRTSISSFLTFVKEWIINRGTIVPLWIVYPLEGQNPTPVNNFLYQIVELLVHDSSRQQAF\\\\\\nKTTISDHVHPHDNLVYTCKSTASNFFHASLAYWRSRHRNSNRKYLARDSSTGSSTNNSDGHIERSQEQTT\\\\\\nRDPHDGTERNLVLQMSHEIKRTTIPQENTHQGPSFQSFLSDSACGTANPKLNFDRSRHNVKFQDHNSASK\\\\\\nREGHQIISHRLVLPFFTLSQGTRQLTSSNESQTQDEISKYLRQLRSVIDTTVYCRFTGIVSSMHYKLDEV\\\\\\nLWEIESFKSAVTLAEGEGAGALLLIQKYQVKTLFFNTLATESSIESEIVSGMTTPRMLLPVMSKFHNDQI\\\\\\nEIILNNSASQITDITNPTWFKDQRARLPKQVEVITMDAETTENINRSKLYEAVYKLILHHIDPSVLKAVV\\\\\\nLKVFLSDTEGMLWLNDNLAPFFATGYLIKPITSSARSSEWYLCLTNFLSTTRKMPHQNHLSCKQVILTAL\\\\\\nQLQIQRSPYWLSHLTQYADCELHLSYIRLGFPSLEKVLYHRYNLVDSKRGPLVSITQHLAHLRAEIRELT\\\\\\nNDYNQQRQSRTQTYHFIRTAKGRITKLVNDYLKFFLIVQALKHNGTWQAEFKKLPELISVCNRFYHIRDC\\\\\\nNCEERFLVQTLYLHRMQDSEVKLIERLTGLLSLFPDGLYRFD\\\\\\n\\\\pard\\\\pardeftab720\\\\partightenfactor0\\n\\n\\\\fs24 \\\\cf2 \\\\cb1 \\\\outl0\\\\strokewidth0 \\\\\\n}\""
      ]
     },
     "execution_count": 7,
     "metadata": {},
     "output_type": "execute_result"
    }
   ],
   "source": [
    "#Read in the FASTA file containing EBOV RdRp protein sequence data taken from the NCBI Protein Database\n",
    "#Define the global variable sequence_data and display contents in output\n",
    "sequence_data = open(\"EBOVRdRp.fasta.rtf\").read()\n",
    "sequence_data"
   ]
  },
  {
   "cell_type": "code",
   "execution_count": 8,
   "id": "0258b4d9",
   "metadata": {},
   "outputs": [
    {
     "data": {
      "text/plain": [
       "<_io.StringIO at 0x7fae3c3b2790>"
      ]
     },
     "execution_count": 8,
     "metadata": {},
     "output_type": "execute_result"
    }
   ],
   "source": [
    "#Perform Protein BLAST search on sequence_data using Protein Data Bank as the database that is sourced\n",
    "#Define global variable result_handle to store results of BLAST\n",
    "#Display result_handle in output\n",
    "result_handle = NCBIWWW.qblast(\"blastp\", \"pdb\", sequence_data)\n",
    "result_handle"
   ]
  },
  {
   "cell_type": "code",
   "execution_count": 9,
   "id": "b79a4dbd",
   "metadata": {},
   "outputs": [],
   "source": [
    "#Read in result_handle and store in newly defined global variable blast_results\n",
    "#Store contents of blast_results in file titled \"EBOVresults.xml,\" saved into your Jupyter Notebook\n",
    "with open('EBOVresults.xml', 'w') as save_file: \n",
    "    blast_results = result_handle.read()\n",
    "    save_file.write(blast_results)"
   ]
  },
  {
   "cell_type": "markdown",
   "id": "017bcead",
   "metadata": {},
   "source": [
    "### Part 2B: Create homology structure models based on the top hits from BLAST search (second bioinformatics method)"
   ]
  },
  {
   "cell_type": "markdown",
   "id": "4c61e563",
   "metadata": {},
   "source": [
    "The top two sequence results from the above BLAST were used as template structures for the first two homology structure models constructed. The top two sequences were the RNA methyltransferase of Sudan Ebola virus and the RNA-directed RNA polymerase L from Parainfluenza virus 5 L-P complex. \n",
    "\n",
    "A PDB file consists of several lines of information about a protein in a text file. Each line of information contains different types of records, arranged in a specific order to describe a structure in words. The PDB files of the X-ray-diffraction-derived structure of the former protein and the electron-microscopy-derived structure of the latter protein were downloaded. These two PDB files in addition to the EBOV RdRp FASTA file were uploaded to SWISS-MODEL to build the two models. These two models are displayed below in Part 3 of the notebook. "
   ]
  },
  {
   "cell_type": "markdown",
   "id": "dbc04685",
   "metadata": {},
   "source": [
    "### Part 2C: Create homology structure models based on the lower hits from BLAST search (second bioinformatics method)"
   ]
  },
  {
   "cell_type": "markdown",
   "id": "f71417c6",
   "metadata": {},
   "source": [
    "Upon building the first two models, the SWISS-MODEL Homology Reports for the first two models were read and evaluated. The Global Model Quality Estimation (GMQE) values in particular were evaluated. GMQE is expressed as a number between 0 and 1 and predicts the expected accuracy of a model built with that alignment and that template as indicated by the coverage of the target sequence. Higher GMQEs indicate higher reliability. To learn more about GMQE and other numerical values listed in a typical SWISS-MODEL Homology Report, visit this tutorial: https://www.bonvinlab.org/education/molmod_online/modelling/ \n",
    "\n",
    "The GMQEs of the two models built on th RNA methyltransferase of Sudan Ebola virus and the RNA-directed RNA polymerase L from Parainfluenza virus 5 L-P complex were 0.08 and 0.33, respectively. \n",
    "\n",
    "Further homology structure modeling was done in an attempt to obtain higher GMQE values. A number of models were constructed based on lower hits from the BLAST search, but two models in particular were chosen for this notebook due to high GMQE. The first was the model based on the cryo-EM-determined Rabies SAD-B19 L-P complex. This structure was the 6th hit on BLAST and the model had a GMQE of 0.36. The second was the model based on the cryo-EM-determined Vesicular Stomatitis Virus L protein. This structure was the 7th hit on BLAST and the model had a GMQE of 0.36. The same protocol, as outlined above, was used to make these models on SWISS-MODEL. These two additional models are displayed bwlo in Part 3 of the notebook. "
   ]
  },
  {
   "cell_type": "markdown",
   "id": "f76ca996",
   "metadata": {},
   "source": [
    "### Part 3: Display all of the protein structures using NGLviewer (plotting method)"
   ]
  },
  {
   "cell_type": "markdown",
   "id": "e2d9e0cd",
   "metadata": {},
   "source": [
    "The PDB file of the electron-microscopy-derived structure of SARS-CoV-2 was downloaded from Protein Data Bank. In addition, the PDB files of all four homology models described above were downloaded from SWISS-MODEL. These files were then uploaded into Jupyter Notebook. The following code reads in each of these PDB files and displays them in an interactive widget. Snapshots of each of these models were taken from similar perspectives, one of which shows the active site, and then displayed in outputs. "
   ]
  },
  {
   "cell_type": "markdown",
   "id": "8edb8533",
   "metadata": {},
   "source": [
    "#### SARS-CoV-2 Structure from PDB"
   ]
  },
  {
   "cell_type": "code",
   "execution_count": 19,
   "id": "cc7d4edb",
   "metadata": {},
   "outputs": [
    {
     "ename": "NameError",
     "evalue": "name 'nv' is not defined",
     "output_type": "error",
     "traceback": [
      "\u001b[0;31m---------------------------------------------------------------------------\u001b[0m",
      "\u001b[0;31mNameError\u001b[0m                                 Traceback (most recent call last)",
      "\u001b[0;32m<ipython-input-19-47af6e344699>\u001b[0m in \u001b[0;36m<module>\u001b[0;34m\u001b[0m\n\u001b[1;32m      2\u001b[0m \u001b[0;31m#Define a global variable view that shows traj in a widget\u001b[0m\u001b[0;34m\u001b[0m\u001b[0;34m\u001b[0m\u001b[0;34m\u001b[0m\u001b[0m\n\u001b[1;32m      3\u001b[0m \u001b[0mtraj\u001b[0m \u001b[0;34m=\u001b[0m \u001b[0mpt\u001b[0m\u001b[0;34m.\u001b[0m\u001b[0mload\u001b[0m\u001b[0;34m(\u001b[0m\u001b[0;34m'6m71.pdb'\u001b[0m\u001b[0;34m)\u001b[0m\u001b[0;34m\u001b[0m\u001b[0;34m\u001b[0m\u001b[0m\n\u001b[0;32m----> 4\u001b[0;31m \u001b[0mview\u001b[0m \u001b[0;34m=\u001b[0m \u001b[0mnv\u001b[0m\u001b[0;34m.\u001b[0m\u001b[0mshow_pytraj\u001b[0m\u001b[0;34m(\u001b[0m\u001b[0mtraj\u001b[0m\u001b[0;34m)\u001b[0m\u001b[0;34m\u001b[0m\u001b[0;34m\u001b[0m\u001b[0m\n\u001b[0m\u001b[1;32m      5\u001b[0m \u001b[0mview\u001b[0m\u001b[0;34m\u001b[0m\u001b[0;34m\u001b[0m\u001b[0m\n",
      "\u001b[0;31mNameError\u001b[0m: name 'nv' is not defined"
     ]
    }
   ],
   "source": [
    "#Define a global trajectory variable traj that loads the pdb file that holds the model\n",
    "#Define a global variable view that shows traj in a widget\n",
    "traj = pt.load('6m71.pdb')\n",
    "view = nv.show_pytraj(traj)\n",
    "view"
   ]
  },
  {
   "cell_type": "code",
   "execution_count": 20,
   "id": "13543058",
   "metadata": {},
   "outputs": [
    {
     "ename": "NameError",
     "evalue": "name 'view' is not defined",
     "output_type": "error",
     "traceback": [
      "\u001b[0;31m---------------------------------------------------------------------------\u001b[0m",
      "\u001b[0;31mNameError\u001b[0m                                 Traceback (most recent call last)",
      "\u001b[0;32m<ipython-input-20-1fc34c378562>\u001b[0m in \u001b[0;36m<module>\u001b[0;34m\u001b[0m\n\u001b[1;32m      1\u001b[0m \u001b[0;31m#render_image() outputs the above structure from the exact perspective selected using interactive widget\u001b[0m\u001b[0;34m\u001b[0m\u001b[0;34m\u001b[0m\u001b[0;34m\u001b[0m\u001b[0m\n\u001b[0;32m----> 2\u001b[0;31m \u001b[0mview\u001b[0m\u001b[0;34m.\u001b[0m\u001b[0mrender_image\u001b[0m\u001b[0;34m(\u001b[0m\u001b[0;34m)\u001b[0m\u001b[0;34m\u001b[0m\u001b[0;34m\u001b[0m\u001b[0m\n\u001b[0m",
      "\u001b[0;31mNameError\u001b[0m: name 'view' is not defined"
     ]
    }
   ],
   "source": [
    "#render_image() outputs the above structure from the exact perspective selected using interactive widget\n",
    "view.render_image()"
   ]
  },
  {
   "cell_type": "code",
   "execution_count": 21,
   "id": "82b9b760",
   "metadata": {},
   "outputs": [
    {
     "ename": "NameError",
     "evalue": "name 'view' is not defined",
     "output_type": "error",
     "traceback": [
      "\u001b[0;31m---------------------------------------------------------------------------\u001b[0m",
      "\u001b[0;31mNameError\u001b[0m                                 Traceback (most recent call last)",
      "\u001b[0;32m<ipython-input-21-ebabfb14851d>\u001b[0m in \u001b[0;36m<module>\u001b[0;34m\u001b[0m\n\u001b[1;32m      1\u001b[0m \u001b[0;31m#_display_image() prints the rendered image\u001b[0m\u001b[0;34m\u001b[0m\u001b[0;34m\u001b[0m\u001b[0;34m\u001b[0m\u001b[0m\n\u001b[0;32m----> 2\u001b[0;31m \u001b[0mview\u001b[0m\u001b[0;34m.\u001b[0m\u001b[0m_display_image\u001b[0m\u001b[0;34m(\u001b[0m\u001b[0;34m)\u001b[0m\u001b[0;34m\u001b[0m\u001b[0;34m\u001b[0m\u001b[0m\n\u001b[0m",
      "\u001b[0;31mNameError\u001b[0m: name 'view' is not defined"
     ]
    }
   ],
   "source": [
    "#_display_image() prints the rendered image\n",
    "view._display_image()"
   ]
  },
  {
   "cell_type": "markdown",
   "id": "4191761d",
   "metadata": {},
   "source": [
    "#### EBOV RdRP Model based on RNA methyltransferase of Sudan Ebola Virus"
   ]
  },
  {
   "cell_type": "code",
   "execution_count": null,
   "id": "d37034da",
   "metadata": {},
   "outputs": [],
   "source": [
    "#accidental blank"
   ]
  },
  {
   "cell_type": "code",
   "execution_count": 10,
   "id": "3d11207d",
   "metadata": {},
   "outputs": [
    {
     "ename": "NameError",
     "evalue": "name 'nv' is not defined",
     "output_type": "error",
     "traceback": [
      "\u001b[0;31m---------------------------------------------------------------------------\u001b[0m",
      "\u001b[0;31mNameError\u001b[0m                                 Traceback (most recent call last)",
      "\u001b[0;32m<ipython-input-10-55a5b9540b6f>\u001b[0m in \u001b[0;36m<module>\u001b[0;34m\u001b[0m\n\u001b[1;32m      1\u001b[0m \u001b[0mtraj\u001b[0m \u001b[0;34m=\u001b[0m \u001b[0mpt\u001b[0m\u001b[0;34m.\u001b[0m\u001b[0mload\u001b[0m\u001b[0;34m(\u001b[0m\u001b[0;34m'modelmethyltransferase.pdb'\u001b[0m\u001b[0;34m)\u001b[0m\u001b[0;34m\u001b[0m\u001b[0;34m\u001b[0m\u001b[0m\n\u001b[0;32m----> 2\u001b[0;31m \u001b[0mview\u001b[0m \u001b[0;34m=\u001b[0m \u001b[0mnv\u001b[0m\u001b[0;34m.\u001b[0m\u001b[0mshow_pytraj\u001b[0m\u001b[0;34m(\u001b[0m\u001b[0mtraj\u001b[0m\u001b[0;34m)\u001b[0m\u001b[0;34m\u001b[0m\u001b[0;34m\u001b[0m\u001b[0m\n\u001b[0m\u001b[1;32m      3\u001b[0m \u001b[0mview\u001b[0m\u001b[0;34m\u001b[0m\u001b[0;34m\u001b[0m\u001b[0m\n",
      "\u001b[0;31mNameError\u001b[0m: name 'nv' is not defined"
     ]
    }
   ],
   "source": [
    "#Define a global trajectory variable traj that loads the pdb file that holds the model\n",
    "#Define a global variable view that shows traj in a widget\n",
    "traj = pt.load('modelmethyltransferase.pdb')\n",
    "view = nv.show_pytraj(traj)\n",
    "view"
   ]
  },
  {
   "cell_type": "markdown",
   "id": "9a6ac667",
   "metadata": {},
   "source": [
    "#### EBOV RdRP Model based on RNA-directed RNA polymerase L from Parainfluenza virus 5 L-P complex"
   ]
  },
  {
   "cell_type": "code",
   "execution_count": 8,
   "id": "179141ff",
   "metadata": {},
   "outputs": [
    {
     "ename": "NameError",
     "evalue": "name 'nv' is not defined",
     "output_type": "error",
     "traceback": [
      "\u001b[0;31m---------------------------------------------------------------------------\u001b[0m",
      "\u001b[0;31mNameError\u001b[0m                                 Traceback (most recent call last)",
      "\u001b[0;32m<ipython-input-8-e3fdc637569f>\u001b[0m in \u001b[0;36m<module>\u001b[0;34m\u001b[0m\n\u001b[1;32m      2\u001b[0m \u001b[0;31m#Define a global variable view that shows traj in a widget\u001b[0m\u001b[0;34m\u001b[0m\u001b[0;34m\u001b[0m\u001b[0;34m\u001b[0m\u001b[0m\n\u001b[1;32m      3\u001b[0m \u001b[0mtraj\u001b[0m \u001b[0;34m=\u001b[0m \u001b[0mpt\u001b[0m\u001b[0;34m.\u001b[0m\u001b[0mload\u001b[0m\u001b[0;34m(\u001b[0m\u001b[0;34m'modelparainfluenza.pdb'\u001b[0m\u001b[0;34m)\u001b[0m\u001b[0;34m\u001b[0m\u001b[0;34m\u001b[0m\u001b[0m\n\u001b[0;32m----> 4\u001b[0;31m \u001b[0mview\u001b[0m \u001b[0;34m=\u001b[0m \u001b[0mnv\u001b[0m\u001b[0;34m.\u001b[0m\u001b[0mshow_pytraj\u001b[0m\u001b[0;34m(\u001b[0m\u001b[0mtraj\u001b[0m\u001b[0;34m)\u001b[0m\u001b[0;34m\u001b[0m\u001b[0;34m\u001b[0m\u001b[0m\n\u001b[0m\u001b[1;32m      5\u001b[0m \u001b[0mview\u001b[0m\u001b[0;34m\u001b[0m\u001b[0;34m\u001b[0m\u001b[0m\n",
      "\u001b[0;31mNameError\u001b[0m: name 'nv' is not defined"
     ]
    }
   ],
   "source": [
    "#Define a global trajectory variable traj that loads the pdb file that holds the model\n",
    "#Define a global variable view that shows traj in a widget\n",
    "traj = pt.load('modelparainfluenza.pdb')\n",
    "view = nv.show_pytraj(traj)\n",
    "view"
   ]
  },
  {
   "cell_type": "code",
   "execution_count": 11,
   "id": "945fcbd3",
   "metadata": {},
   "outputs": [
    {
     "ename": "NameError",
     "evalue": "name 'view' is not defined",
     "output_type": "error",
     "traceback": [
      "\u001b[0;31m---------------------------------------------------------------------------\u001b[0m",
      "\u001b[0;31mNameError\u001b[0m                                 Traceback (most recent call last)",
      "\u001b[0;32m<ipython-input-11-d51313acb379>\u001b[0m in \u001b[0;36m<module>\u001b[0;34m\u001b[0m\n\u001b[1;32m      1\u001b[0m \u001b[0;31m#This outputs the above structure from the exact perspective selected using interactive widget\u001b[0m\u001b[0;34m\u001b[0m\u001b[0;34m\u001b[0m\u001b[0;34m\u001b[0m\u001b[0m\n\u001b[0;32m----> 2\u001b[0;31m \u001b[0mview\u001b[0m\u001b[0;34m.\u001b[0m\u001b[0mrender_image\u001b[0m\u001b[0;34m(\u001b[0m\u001b[0;34m)\u001b[0m\u001b[0;34m\u001b[0m\u001b[0;34m\u001b[0m\u001b[0m\n\u001b[0m",
      "\u001b[0;31mNameError\u001b[0m: name 'view' is not defined"
     ]
    }
   ],
   "source": [
    "#render_image() outputs the above structure from the exact perspective selected using interactive widget\n",
    "view.render_image()"
   ]
  },
  {
   "cell_type": "code",
   "execution_count": 12,
   "id": "2765e166",
   "metadata": {},
   "outputs": [
    {
     "ename": "NameError",
     "evalue": "name 'view' is not defined",
     "output_type": "error",
     "traceback": [
      "\u001b[0;31m---------------------------------------------------------------------------\u001b[0m",
      "\u001b[0;31mNameError\u001b[0m                                 Traceback (most recent call last)",
      "\u001b[0;32m<ipython-input-12-ebabfb14851d>\u001b[0m in \u001b[0;36m<module>\u001b[0;34m\u001b[0m\n\u001b[1;32m      1\u001b[0m \u001b[0;31m#_display_image() prints the rendered image\u001b[0m\u001b[0;34m\u001b[0m\u001b[0;34m\u001b[0m\u001b[0;34m\u001b[0m\u001b[0m\n\u001b[0;32m----> 2\u001b[0;31m \u001b[0mview\u001b[0m\u001b[0;34m.\u001b[0m\u001b[0m_display_image\u001b[0m\u001b[0;34m(\u001b[0m\u001b[0;34m)\u001b[0m\u001b[0;34m\u001b[0m\u001b[0;34m\u001b[0m\u001b[0m\n\u001b[0m",
      "\u001b[0;31mNameError\u001b[0m: name 'view' is not defined"
     ]
    }
   ],
   "source": [
    "#_display_image() prints the rendered image\n",
    "view._display_image()"
   ]
  },
  {
   "cell_type": "markdown",
   "id": "e7d8ae77",
   "metadata": {},
   "source": [
    "#### EBOV RdRP Model based on Rabies SAD-B19 L-P complex "
   ]
  },
  {
   "cell_type": "code",
   "execution_count": 9,
   "id": "5c3b70ee",
   "metadata": {},
   "outputs": [
    {
     "ename": "NameError",
     "evalue": "name 'nv' is not defined",
     "output_type": "error",
     "traceback": [
      "\u001b[0;31m---------------------------------------------------------------------------\u001b[0m",
      "\u001b[0;31mNameError\u001b[0m                                 Traceback (most recent call last)",
      "\u001b[0;32m<ipython-input-9-a59390e6bff8>\u001b[0m in \u001b[0;36m<module>\u001b[0;34m\u001b[0m\n\u001b[1;32m      2\u001b[0m \u001b[0;31m#Define a global variable view that shows traj in a widget\u001b[0m\u001b[0;34m\u001b[0m\u001b[0;34m\u001b[0m\u001b[0;34m\u001b[0m\u001b[0m\n\u001b[1;32m      3\u001b[0m \u001b[0mtraj\u001b[0m \u001b[0;34m=\u001b[0m \u001b[0mpt\u001b[0m\u001b[0;34m.\u001b[0m\u001b[0mload\u001b[0m\u001b[0;34m(\u001b[0m\u001b[0;34m'modelrabies.pdb'\u001b[0m\u001b[0;34m)\u001b[0m\u001b[0;34m\u001b[0m\u001b[0;34m\u001b[0m\u001b[0m\n\u001b[0;32m----> 4\u001b[0;31m \u001b[0mview\u001b[0m \u001b[0;34m=\u001b[0m \u001b[0mnv\u001b[0m\u001b[0;34m.\u001b[0m\u001b[0mshow_pytraj\u001b[0m\u001b[0;34m(\u001b[0m\u001b[0mtraj\u001b[0m\u001b[0;34m)\u001b[0m\u001b[0;34m\u001b[0m\u001b[0;34m\u001b[0m\u001b[0m\n\u001b[0m\u001b[1;32m      5\u001b[0m \u001b[0mview\u001b[0m\u001b[0;34m\u001b[0m\u001b[0;34m\u001b[0m\u001b[0m\n",
      "\u001b[0;31mNameError\u001b[0m: name 'nv' is not defined"
     ]
    }
   ],
   "source": [
    "#Define a global trajectory variable traj that loads the pdb file that holds the model\n",
    "#Define a global variable view that shows traj in a widget\n",
    "traj = pt.load('modelrabies.pdb')\n",
    "view = nv.show_pytraj(traj)\n",
    "view"
   ]
  },
  {
   "cell_type": "code",
   "execution_count": 13,
   "id": "1053cacc",
   "metadata": {},
   "outputs": [
    {
     "ename": "NameError",
     "evalue": "name 'view' is not defined",
     "output_type": "error",
     "traceback": [
      "\u001b[0;31m---------------------------------------------------------------------------\u001b[0m",
      "\u001b[0;31mNameError\u001b[0m                                 Traceback (most recent call last)",
      "\u001b[0;32m<ipython-input-13-1fc34c378562>\u001b[0m in \u001b[0;36m<module>\u001b[0;34m\u001b[0m\n\u001b[1;32m      1\u001b[0m \u001b[0;31m#render_image() outputs the above structure from the exact perspective selected using interactive widget\u001b[0m\u001b[0;34m\u001b[0m\u001b[0;34m\u001b[0m\u001b[0;34m\u001b[0m\u001b[0m\n\u001b[0;32m----> 2\u001b[0;31m \u001b[0mview\u001b[0m\u001b[0;34m.\u001b[0m\u001b[0mrender_image\u001b[0m\u001b[0;34m(\u001b[0m\u001b[0;34m)\u001b[0m\u001b[0;34m\u001b[0m\u001b[0;34m\u001b[0m\u001b[0m\n\u001b[0m",
      "\u001b[0;31mNameError\u001b[0m: name 'view' is not defined"
     ]
    }
   ],
   "source": [
    "#render_image() outputs the above structure from the exact perspective selected using interactive widget\n",
    "view.render_image()"
   ]
  },
  {
   "cell_type": "code",
   "execution_count": 14,
   "id": "8fa050fa",
   "metadata": {},
   "outputs": [
    {
     "ename": "NameError",
     "evalue": "name 'view' is not defined",
     "output_type": "error",
     "traceback": [
      "\u001b[0;31m---------------------------------------------------------------------------\u001b[0m",
      "\u001b[0;31mNameError\u001b[0m                                 Traceback (most recent call last)",
      "\u001b[0;32m<ipython-input-14-ebabfb14851d>\u001b[0m in \u001b[0;36m<module>\u001b[0;34m\u001b[0m\n\u001b[1;32m      1\u001b[0m \u001b[0;31m#_display_image() prints the rendered image\u001b[0m\u001b[0;34m\u001b[0m\u001b[0;34m\u001b[0m\u001b[0;34m\u001b[0m\u001b[0m\n\u001b[0;32m----> 2\u001b[0;31m \u001b[0mview\u001b[0m\u001b[0;34m.\u001b[0m\u001b[0m_display_image\u001b[0m\u001b[0;34m(\u001b[0m\u001b[0;34m)\u001b[0m\u001b[0;34m\u001b[0m\u001b[0;34m\u001b[0m\u001b[0m\n\u001b[0m",
      "\u001b[0;31mNameError\u001b[0m: name 'view' is not defined"
     ]
    }
   ],
   "source": [
    "#_display_image() prints the rendered image\n",
    "view._display_image()"
   ]
  },
  {
   "cell_type": "markdown",
   "id": "f6ff78bd",
   "metadata": {},
   "source": [
    "#### EBOV RdRP Model based on Vesicular Stomatitis Virus L Protein "
   ]
  },
  {
   "cell_type": "code",
   "execution_count": 10,
   "id": "76d64436",
   "metadata": {},
   "outputs": [
    {
     "ename": "NameError",
     "evalue": "name 'nv' is not defined",
     "output_type": "error",
     "traceback": [
      "\u001b[0;31m---------------------------------------------------------------------------\u001b[0m",
      "\u001b[0;31mNameError\u001b[0m                                 Traceback (most recent call last)",
      "\u001b[0;32m<ipython-input-10-c02419ac9c4e>\u001b[0m in \u001b[0;36m<module>\u001b[0;34m\u001b[0m\n\u001b[1;32m      2\u001b[0m \u001b[0;31m#Define a global variable view that shows traj in a widget\u001b[0m\u001b[0;34m\u001b[0m\u001b[0;34m\u001b[0m\u001b[0;34m\u001b[0m\u001b[0m\n\u001b[1;32m      3\u001b[0m \u001b[0mtraj\u001b[0m \u001b[0;34m=\u001b[0m \u001b[0mpt\u001b[0m\u001b[0;34m.\u001b[0m\u001b[0mload\u001b[0m\u001b[0;34m(\u001b[0m\u001b[0;34m'modelvesicular.pdb'\u001b[0m\u001b[0;34m)\u001b[0m\u001b[0;34m\u001b[0m\u001b[0;34m\u001b[0m\u001b[0m\n\u001b[0;32m----> 4\u001b[0;31m \u001b[0mview\u001b[0m \u001b[0;34m=\u001b[0m \u001b[0mnv\u001b[0m\u001b[0;34m.\u001b[0m\u001b[0mshow_pytraj\u001b[0m\u001b[0;34m(\u001b[0m\u001b[0mtraj\u001b[0m\u001b[0;34m)\u001b[0m\u001b[0;34m\u001b[0m\u001b[0;34m\u001b[0m\u001b[0m\n\u001b[0m\u001b[1;32m      5\u001b[0m \u001b[0mview\u001b[0m\u001b[0;34m\u001b[0m\u001b[0;34m\u001b[0m\u001b[0m\n",
      "\u001b[0;31mNameError\u001b[0m: name 'nv' is not defined"
     ]
    }
   ],
   "source": [
    "#Define a global trajectory variable traj that loads the pdb file that holds the model\n",
    "#Define a global variable view that shows traj in a widget\n",
    "traj = pt.load('modelvesicular.pdb')\n",
    "view = nv.show_pytraj(traj)\n",
    "view"
   ]
  },
  {
   "cell_type": "code",
   "execution_count": 15,
   "id": "1300ae51",
   "metadata": {},
   "outputs": [
    {
     "ename": "NameError",
     "evalue": "name 'view' is not defined",
     "output_type": "error",
     "traceback": [
      "\u001b[0;31m---------------------------------------------------------------------------\u001b[0m",
      "\u001b[0;31mNameError\u001b[0m                                 Traceback (most recent call last)",
      "\u001b[0;32m<ipython-input-15-1fc34c378562>\u001b[0m in \u001b[0;36m<module>\u001b[0;34m\u001b[0m\n\u001b[1;32m      1\u001b[0m \u001b[0;31m#render_image() outputs the above structure from the exact perspective selected using interactive widget\u001b[0m\u001b[0;34m\u001b[0m\u001b[0;34m\u001b[0m\u001b[0;34m\u001b[0m\u001b[0m\n\u001b[0;32m----> 2\u001b[0;31m \u001b[0mview\u001b[0m\u001b[0;34m.\u001b[0m\u001b[0mrender_image\u001b[0m\u001b[0;34m(\u001b[0m\u001b[0;34m)\u001b[0m\u001b[0;34m\u001b[0m\u001b[0;34m\u001b[0m\u001b[0m\n\u001b[0m",
      "\u001b[0;31mNameError\u001b[0m: name 'view' is not defined"
     ]
    }
   ],
   "source": [
    "#render_image() outputs the above structure from the exact perspective selected using interactive widget\n",
    "view.render_image()"
   ]
  },
  {
   "cell_type": "code",
   "execution_count": 16,
   "id": "c311f68f",
   "metadata": {},
   "outputs": [
    {
     "ename": "NameError",
     "evalue": "name 'view' is not defined",
     "output_type": "error",
     "traceback": [
      "\u001b[0;31m---------------------------------------------------------------------------\u001b[0m",
      "\u001b[0;31mNameError\u001b[0m                                 Traceback (most recent call last)",
      "\u001b[0;32m<ipython-input-16-ebabfb14851d>\u001b[0m in \u001b[0;36m<module>\u001b[0;34m\u001b[0m\n\u001b[1;32m      1\u001b[0m \u001b[0;31m#_display_image() prints the rendered image\u001b[0m\u001b[0;34m\u001b[0m\u001b[0;34m\u001b[0m\u001b[0;34m\u001b[0m\u001b[0m\n\u001b[0;32m----> 2\u001b[0;31m \u001b[0mview\u001b[0m\u001b[0;34m.\u001b[0m\u001b[0m_display_image\u001b[0m\u001b[0;34m(\u001b[0m\u001b[0;34m)\u001b[0m\u001b[0;34m\u001b[0m\u001b[0;34m\u001b[0m\u001b[0m\n\u001b[0m",
      "\u001b[0;31mNameError\u001b[0m: name 'view' is not defined"
     ]
    }
   ],
   "source": [
    "#_display_image() prints the rendered image\n",
    "view._display_image()"
   ]
  },
  {
   "cell_type": "markdown",
   "id": "922299eb",
   "metadata": {},
   "source": [
    "Explanation for NameErrors: nv is not defined because nglviewer could not be properly imported as nv. See the above error explanation under \"Load Packages\" for more information as to why. Because nv is unrecognized, view cannot be properly defined either. \n",
    "\n",
    "Additional errors once nglviewer is imported: Although previously working the week before, nglviewer no longer displays interactive widgets. This is likely because of the entrance of a bug into the program. Despite various efforts to ameliorate this over the course of the last week, it has been unsuccessful. "
   ]
  },
  {
   "cell_type": "markdown",
   "id": "a00417b5",
   "metadata": {},
   "source": [
    "### Part 4: Analysis of the results"
   ]
  },
  {
   "cell_type": "markdown",
   "id": "3c1a98da",
   "metadata": {},
   "source": [
    "The above protein structures were successfully displayed in a Jupyter notebook from the previous week before a series of unbeknownst and unsolvable errors took rise. The analysis conducted below will be based entirely on memory of these previous structures since most recent code could not properly display these structures. "
   ]
  },
  {
   "cell_type": "markdown",
   "id": "834a232e",
   "metadata": {},
   "source": [
    "The active sites of SARS-CoV-2 RdRp and EBOV RdRp were determined through rotation of the interactive widgets that these structures were displayed in. Determination of the EBOV RdRp active site was most accurately done with the latter three structures that beared relatively higher GMQE values. That is to say, the first structure constructed based on the RNA methyltransferase of Sudan Ebola Virus was discarded from analysis based on its very low GMQE value of 0.08. This low GMQE value likely stems from the fact that the template used for this model was the only non-RdRp template in the sample size above. In summary, for the reason that this template was non-RdRp as well as low in GMQE, this was discarded. "
   ]
  },
  {
   "cell_type": "markdown",
   "id": "4e3616dc",
   "metadata": {},
   "source": [
    "Qualitative and visual analysis of the active sites of SARS-CoV-2 RdRp and the three EBOV RdRp models chosen showed that the active site pocket of the SARS-CoV-2 RdRp was significantly larger than that of the predicted EBOV RdRp. This large active site may suggest that SARS-CoV-2 may be even more conducive to drug binding not only by Remdesivir, but also by a host of existing and investigational drugs (Vatansever et al., 2021). Besides this significant difference, the two structures look fairly similar otherwise. Both the SARS-CoV-2 RdRp and predicted EBOV RdRp have the same conserved domains that most other viral RdRps have outside of the active site. These include the finger domain, thumb domain, and palm domain which assist in both binding of RdRp to nucleotides as well as binding of RdRp to the nucleotide analog Remdesivir. "
   ]
  },
  {
   "cell_type": "code",
   "execution_count": null,
   "id": "f4d33f4f",
   "metadata": {},
   "outputs": [],
   "source": []
  }
 ],
 "metadata": {
  "kernelspec": {
   "display_name": "Python 3",
   "language": "python",
   "name": "python3"
  },
  "language_info": {
   "codemirror_mode": {
    "name": "ipython",
    "version": 3
   },
   "file_extension": ".py",
   "mimetype": "text/x-python",
   "name": "python",
   "nbconvert_exporter": "python",
   "pygments_lexer": "ipython3",
   "version": "3.8.8"
  }
 },
 "nbformat": 4,
 "nbformat_minor": 5
}
